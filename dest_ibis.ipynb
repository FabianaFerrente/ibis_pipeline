{
  "nbformat": 4,
  "nbformat_minor": 0,
  "metadata": {
    "colab": {
      "provenance": [],
      "authorship_tag": "ABX9TyOlgZkCG19r80ALhbLDIDJs",
      "include_colab_link": true
    },
    "kernelspec": {
      "name": "python3",
      "display_name": "Python 3"
    },
    "language_info": {
      "name": "python"
    }
  },
  "cells": [
    {
      "cell_type": "markdown",
      "metadata": {
        "id": "view-in-github",
        "colab_type": "text"
      },
      "source": [
        "<a href=\"https://colab.research.google.com/github/FabianaFerrente/ibis_pipeline/blob/master/dest_ibis.ipynb\" target=\"_parent\"><img src=\"https://colab.research.google.com/assets/colab-badge.svg\" alt=\"Open In Colab\"/></a>"
      ]
    },
    {
      "cell_type": "code",
      "execution_count": null,
      "metadata": {
        "id": "-dKP7A5t2Zhm"
      },
      "outputs": [],
      "source": [
        "from google.colab import drive\n",
        "import os\n",
        "\n",
        "# Mount Google Drive\n",
        "drive.mount('/content/drive')\n",
        "\n",
        "\n",
        "shared_folder_path = '/content/drive/MyDrive/dest_IBIS'\n",
        "\n",
        "# List files in the shared folder\n",
        "if os.path.exists(shared_folder_path):\n",
        "    files = os.listdir(shared_folder_path)\n",
        "    print(f\"Files in '{shared_folder_path}':\")\n",
        "    for file in files:\n",
        "        print(file)\n",
        "else:\n",
        "    print(f\"Folder '{shared_folder_path}' not found.\")"
      ]
    }
  ]
}